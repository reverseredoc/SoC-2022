{
 "cells": [
  {
   "cell_type": "code",
   "execution_count": 1,
   "id": "6f9da706",
   "metadata": {},
   "outputs": [
    {
     "name": "stderr",
     "output_type": "stream",
     "text": [
      "/tmp/ipykernel_1925/2714530584.py:7: DeprecationWarning: The qiskit.ignis package is deprecated and has been supersceded by the qiskit-experiments project. Refer to the migration guide: https://github.com/Qiskit/qiskit-ignis#migration-guide on how to migrate to the new project.\n",
      "  from qiskit.ignis.verification import marginal_counts\n"
     ]
    },
    {
     "data": {
      "text/html": [
       "<pre style=\"word-wrap: normal;white-space: pre;background: #fff0;line-height: 1.1;font-family: &quot;Courier New&quot;,Courier,monospace\">                  ┌───┐                            ┌───┐┌─┐\n",
       "q_0: ─────────────┤ H ├───────────────■────■────■──┤ H ├┤M├\n",
       "     ┌────────────┴───┴────────────┐  │  ┌─┴─┐  │  └───┘└╥┘\n",
       "q_1: ┤ Initialize(0.70711,0.70711) ├──■──┤ X ├──■────────╫─\n",
       "     └───┬─────────────────────┬───┘┌─┴─┐└─┬─┘┌─┴─┐      ║ \n",
       "q_2: ────┤ Initialize(0.6,0.8) ├────┤ X ├──■──┤ X ├──────╫─\n",
       "         └─────────────────────┘    └───┘     └───┘      ║ \n",
       "c: 1/════════════════════════════════════════════════════╩═\n",
       "                                                         0 </pre>"
      ],
      "text/plain": [
       "                  ┌───┐                            ┌───┐┌─┐\n",
       "q_0: ─────────────┤ H ├───────────────■────■────■──┤ H ├┤M├\n",
       "     ┌────────────┴───┴────────────┐  │  ┌─┴─┐  │  └───┘└╥┘\n",
       "q_1: ┤ Initialize(0.70711,0.70711) ├──■──┤ X ├──■────────╫─\n",
       "     └───┬─────────────────────┬───┘┌─┴─┐└─┬─┘┌─┴─┐      ║ \n",
       "q_2: ────┤ Initialize(0.6,0.8) ├────┤ X ├──■──┤ X ├──────╫─\n",
       "         └─────────────────────┘    └───┘     └───┘      ║ \n",
       "c: 1/════════════════════════════════════════════════════╩═\n",
       "                                                         0 "
      ]
     },
     "metadata": {},
     "output_type": "display_data"
    },
    {
     "data": {
      "text/plain": [
       "{'1': 0.0102, '0': 0.9898}"
      ]
     },
     "metadata": {},
     "output_type": "display_data"
    },
    {
     "name": "stdout",
     "output_type": "stream",
     "text": [
      "The magnitude of the inner product is  0.9897474425326898\n"
     ]
    }
   ],
   "source": [
    "import pandas as pd\n",
    "import numpy as np\n",
    "from qiskit import QuantumCircuit, QuantumRegister, ClassicalRegister,execute,IBMQ\n",
    "from qiskit import IBMQ, Aer, transpile, assemble\n",
    "from qiskit.visualization import plot_histogram, plot_bloch_multivector, array_to_latex\n",
    "from qiskit.extensions import Initialize\n",
    "from qiskit.ignis.verification import marginal_counts\n",
    "from qiskit.quantum_info import random_statevector\n",
    "from math import sqrt, pi\n",
    "from qiskit.visualization import array_to_latex\n",
    "from qiskit.circuit.library.standard_gates import SGate\n",
    "\n",
    "circuit=QuantumCircuit(3,1)\n",
    "circuit.initialize([1/np.sqrt(2), 1/np.sqrt(2)], 1)\n",
    "circuit.initialize([3/5, 4/5], 2)\n",
    "\n",
    "circuit.h(0)\n",
    "\n",
    "\n",
    "circuit.ccx(0,1,2)\n",
    "circuit.ccx(0,2,1)\n",
    "circuit.ccx(0,1,2)\n",
    "\n",
    "circuit.h(0)\n",
    "circuit.measure(0,0)\n",
    "display(circuit.draw())\n",
    "\n",
    "from qiskit import Aer\n",
    "\n",
    "backend = Aer.get_backend('aer_simulator')\n",
    "\n",
    "shots = 10000\n",
    "counts = backend.run(circuit,shots=shots).result().get_counts()\n",
    "probs = {string:count/shots for string,count in counts.items()}\n",
    "display(probs)\n",
    "\n",
    "p1=probs['1']\n",
    "s=1-2*p1\n",
    "innerProduct=sqrt(abs(s))\n",
    "print(\"The magnitude of the inner product is \",innerProduct)\n"
   ]
  },
  {
   "cell_type": "markdown",
   "id": "14214226",
   "metadata": {},
   "source": [
    "Answer 1. The CSWAP operation is implemented by 3 ccx gates that is 3 gates with 2 qubits as controls. Swap operation is performed on te 2 qubits with an additional conrol on the first qubit.The 3 gates applied are ccx gates with controls as the following:-\n",
    "1. first and second qubit\n",
    "2. first and third qubit\n",
    "3. first and second qubit"
   ]
  },
  {
   "cell_type": "markdown",
   "id": "1541ce55",
   "metadata": {},
   "source": [
    "Answer 2. The inner product is estimated by performing a partial measurement on the topmost qubit and finding out the probability of the qubit being in the $\\left| 1 \\right\\rangle $ state. Then the inner product is estimated by finding out square root of 1- 2*(probability of the topmost qubit being in $\\left|1\\right\\rangle $ state.\n",
    "Mathematical proof:\n",
    "let the initial state of the other 2 qubits be :$$p=a\\left| 0 \\right\\rangle + b\\left| 1 \\right\\rangle $$ and \n",
    "$$q=c\\left| 0 \\right\\rangle + d\\left| 1 \\right\\rangle $$ respectively\n",
    "So, initial state of the 3 qubits is $$\\left| 0 p q \\right\\rangle $$\n",
    "on applying the hadamard gate the state becomes\n",
    "$$ \\frac{1}{\\sqrt(2)}(\\left| 0 p q \\right\\rangle+\\left| 1 p q \\right\\rangle)$$\n",
    "After the CSWAP operation the state becomes\n",
    "$$ \\frac{1}{\\sqrt(2)}(\\left| 0 p q \\right\\rangle+\\left| 1 q p \\right\\rangle)$$\n",
    "After the hadarmard gate,\n",
    "$$ \\frac{1}2(\\left| 0 p q \\right\\rangle+\\left| 1 p q \\right\\rangle+\\left| 0 q p \\right\\rangle-\\left| 1 q p \\right\\rangle)$$\n",
    "on substituting the values of p and q and only considering the terms with the topmost qubit in $\\left| 1 \\right\\rangle $ state and thus calculating the probability of the topmost qubit being in $\\left|1\\right\\rangle $ state which comes out to be $$\\frac{1}2(a^2d^2+b^2c^2-2abcd)$$ \n",
    "using the relations $$a^2+b^2=1 $$ and $$c^2+d^2=1$$  1- 2*(probability of the topmost qubit being in $\\left|1\\right\\rangle $ state comes out to be equal to the square of the inner product and thus taking its square root gives us the inner product."
   ]
  },
  {
   "cell_type": "markdown",
   "id": "cdfb07fd",
   "metadata": {},
   "source": [
    "Answer 3. Circuit "
   ]
  },
  {
   "cell_type": "markdown",
   "id": "aacc0c5a",
   "metadata": {},
   "source": [
    "Answer 4. On measuring the 2 qubits in the Hadamard basis, the probability of finding the qubits in the state $$\\left| 00 \\right\\rangle $$ is half of the square of the inner product. Thus, multiplyng this probability by 2 and taking its square root gives the inner product of the states of the qubits."
   ]
  },
  {
   "cell_type": "code",
   "execution_count": 2,
   "id": "8b7959e1",
   "metadata": {},
   "outputs": [],
   "source": [
    "#Answer 4 code\n",
    "import pandas as pd\n",
    "import numpy as np\n",
    "from qiskit import QuantumCircuit, QuantumRegister, ClassicalRegister,execute,IBMQ\n",
    "from qiskit import IBMQ, Aer, transpile, assemble\n",
    "from qiskit.visualization import plot_histogram, plot_bloch_multivector, array_to_latex\n",
    "from qiskit.extensions import Initialize\n",
    "from qiskit.ignis.verification import marginal_counts\n",
    "from qiskit.quantum_info import random_statevector\n",
    "from math import sqrt, pi\n",
    "from qiskit.visualization import array_to_latex\n"
   ]
  },
  {
   "cell_type": "code",
   "execution_count": 3,
   "id": "8fe04115",
   "metadata": {},
   "outputs": [
    {
     "data": {
      "text/plain": [
       "<qiskit.circuit.instructionset.InstructionSet at 0x7f8df806f600>"
      ]
     },
     "execution_count": 3,
     "metadata": {},
     "output_type": "execute_result"
    }
   ],
   "source": [
    "circuit=QuantumCircuit(2)\n",
    "circuit.initialize([1/np.sqrt(2), 1/np.sqrt(2)], 0)\n",
    "circuit.initialize([3/5, 4/5], 1)"
   ]
  },
  {
   "cell_type": "code",
   "execution_count": 4,
   "id": "e5d5e679",
   "metadata": {},
   "outputs": [
    {
     "data": {
      "text/plain": [
       "<qiskit.circuit.instructionset.InstructionSet at 0x7f8df8070dc0>"
      ]
     },
     "execution_count": 4,
     "metadata": {},
     "output_type": "execute_result"
    }
   ],
   "source": [
    "circuit.cx(0,1)\n",
    "circuit.h(0)"
   ]
  },
  {
   "cell_type": "code",
   "execution_count": 5,
   "id": "9fa7684b",
   "metadata": {},
   "outputs": [
    {
     "data": {
      "text/html": [
       "<pre style=\"word-wrap: normal;white-space: pre;background: #fff0;line-height: 1.1;font-family: &quot;Courier New&quot;,Courier,monospace\">     ┌─────────────────────────────┐     ┌───┐\n",
       "q_0: ┤ Initialize(0.70711,0.70711) ├──■──┤ H ├\n",
       "     └───┬─────────────────────┬───┘┌─┴─┐└───┘\n",
       "q_1: ────┤ Initialize(0.6,0.8) ├────┤ X ├─────\n",
       "         └─────────────────────┘    └───┘     </pre>"
      ],
      "text/plain": [
       "     ┌─────────────────────────────┐     ┌───┐\n",
       "q_0: ┤ Initialize(0.70711,0.70711) ├──■──┤ H ├\n",
       "     └───┬─────────────────────┬───┘┌─┴─┐└───┘\n",
       "q_1: ────┤ Initialize(0.6,0.8) ├────┤ X ├─────\n",
       "         └─────────────────────┘    └───┘     "
      ]
     },
     "execution_count": 5,
     "metadata": {},
     "output_type": "execute_result"
    }
   ],
   "source": [
    "circuit.draw()"
   ]
  },
  {
   "cell_type": "code",
   "execution_count": 6,
   "id": "ff33bc60",
   "metadata": {},
   "outputs": [],
   "source": [
    "circuit.measure_all()"
   ]
  },
  {
   "cell_type": "code",
   "execution_count": 7,
   "id": "33ff23e6",
   "metadata": {},
   "outputs": [
    {
     "data": {
      "text/html": [
       "<pre style=\"word-wrap: normal;white-space: pre;background: #fff0;line-height: 1.1;font-family: &quot;Courier New&quot;,Courier,monospace\">        ┌─────────────────────────────┐     ┌───┐ ░ ┌─┐   \n",
       "   q_0: ┤ Initialize(0.70711,0.70711) ├──■──┤ H ├─░─┤M├───\n",
       "        └───┬─────────────────────┬───┘┌─┴─┐└───┘ ░ └╥┘┌─┐\n",
       "   q_1: ────┤ Initialize(0.6,0.8) ├────┤ X ├──────░──╫─┤M├\n",
       "            └─────────────────────┘    └───┘      ░  ║ └╥┘\n",
       "meas: 2/═════════════════════════════════════════════╩══╩═\n",
       "                                                     0  1 </pre>"
      ],
      "text/plain": [
       "        ┌─────────────────────────────┐     ┌───┐ ░ ┌─┐   \n",
       "   q_0: ┤ Initialize(0.70711,0.70711) ├──■──┤ H ├─░─┤M├───\n",
       "        └───┬─────────────────────┬───┘┌─┴─┐└───┘ ░ └╥┘┌─┐\n",
       "   q_1: ────┤ Initialize(0.6,0.8) ├────┤ X ├──────░──╫─┤M├\n",
       "            └─────────────────────┘    └───┘      ░  ║ └╥┘\n",
       "meas: 2/═════════════════════════════════════════════╩══╩═\n",
       "                                                     0  1 "
      ]
     },
     "execution_count": 7,
     "metadata": {},
     "output_type": "execute_result"
    }
   ],
   "source": [
    "circuit.draw()"
   ]
  },
  {
   "cell_type": "code",
   "execution_count": 8,
   "id": "d82455c6",
   "metadata": {},
   "outputs": [
    {
     "data": {
      "text/plain": [
       "{'11': 0.009961, '01': 0.009949, '00': 0.488986, '10': 0.491104}"
      ]
     },
     "metadata": {},
     "output_type": "display_data"
    }
   ],
   "source": [
    "from qiskit import Aer\n",
    "\n",
    "backend = Aer.get_backend('aer_simulator')\n",
    "\n",
    "shots = 1000000\n",
    "counts = backend.run(circuit,shots=shots).result().get_counts()\n",
    "probs = {string:count/shots for string,count in counts.items()}\n",
    "display(probs)"
   ]
  },
  {
   "cell_type": "code",
   "execution_count": 9,
   "id": "35cf3440",
   "metadata": {},
   "outputs": [
    {
     "name": "stdout",
     "output_type": "stream",
     "text": [
      "The magnitude of the inner product is  0.9889246685162626\n"
     ]
    }
   ],
   "source": [
    "Req=probs['00']\n",
    "innerProduct=sqrt(2*Req)\n",
    "print(\"The magnitude of the inner product is \",innerProduct)"
   ]
  },
  {
   "cell_type": "code",
   "execution_count": null,
   "id": "326b4825",
   "metadata": {},
   "outputs": [],
   "source": []
  }
 ],
 "metadata": {
  "kernelspec": {
   "display_name": "Python 3 (ipykernel)",
   "language": "python",
   "name": "python3"
  },
  "language_info": {
   "codemirror_mode": {
    "name": "ipython",
    "version": 3
   },
   "file_extension": ".py",
   "mimetype": "text/x-python",
   "name": "python",
   "nbconvert_exporter": "python",
   "pygments_lexer": "ipython3",
   "version": "3.9.2"
  }
 },
 "nbformat": 4,
 "nbformat_minor": 5
}
